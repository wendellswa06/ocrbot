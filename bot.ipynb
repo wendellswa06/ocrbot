{
 "cells": [
  {
   "cell_type": "markdown",
   "metadata": {},
   "source": [
    "# Import Libraries"
   ]
  },
  {
   "cell_type": "code",
   "execution_count": 1,
   "metadata": {},
   "outputs": [],
   "source": [
    "import os\n",
    "import io\n",
    "from pdf2image import convert_from_path\n",
    "from pdfrw import PdfWriter, PdfReader\n",
    "import ocr\n",
    "# import utility\n",
    "import json\n",
    "from docx import Document\n",
    "import shutil"
   ]
  },
  {
   "cell_type": "markdown",
   "metadata": {},
   "source": [
    "# Get current path and append sys path"
   ]
  },
  {
   "cell_type": "code",
   "execution_count": 2,
   "metadata": {},
   "outputs": [
    {
     "name": "stdout",
     "output_type": "stream",
     "text": [
      "d:\\JJPES\\new\\scrap\\poppler\\Library\\bin;c:\\Users\\admin\\AppData\\Local\\Programs\\Python\\Python311;c:\\Users\\admin\\AppData\\Roaming\\Python\\Python311\\Scripts;C:\\WINDOWS\\system32;C:\\WINDOWS;C:\\WINDOWS\\System32\\Wbem;C:\\WINDOWS\\System32\\WindowsPowerShell\\v1.0\\;C:\\Users\\admin\\AppData\\Roaming\\nvm;C:\\Program Files\\nodejs;C:\\Program Files\\Git\\cmd;C:\\WINDOWS\\System32\\OpenSSH\\;;C:\\Program Files\\Docker\\Docker\\resources\\bin;C:\\Users\\admin\\AppData\\Local\\Programs\\Python\\Python311\\Scripts\\;C:\\Users\\admin\\AppData\\Local\\Programs\\Python\\Python311\\;C:\\Users\\admin\\AppData\\Local\\Microsoft\\WindowsApps;C:\\Users\\admin\\AppData\\Local\\Programs\\Microsoft VS Code\\bin;C:\\Users\\admin\\AppData\\Roaming\\nvm;C:\\Program Files\\nodejs;C:\\Users\\admin\\AppData\\Local\\Programs\\EmEditor;D:\\TOOLS\\vs_BuildTools.exe;C:\\Program Files\\JetBrains\\PyCharm 2023.2.1\\bin;;C:\\WINDOWS\\system32;C:\\WINDOWS;C:\\WINDOWS\\System32\\Wbem;C:\\WINDOWS\\System32\\WindowsPowerShell\\v1.0\\;C:\\Users\\admin\\AppData\\Roaming\\nvm;C:\\Program Files\\nodejs;C:\\Program Files\\Git\\cmd;C:\\WINDOWS\\System32\\OpenSSH\\;;C:\\Program Files\\Docker\\Docker\\resources\\bin;C:\\Users\\admin\\AppData\\Local\\Programs\\Python\\Python311\\Scripts\\;C:\\Users\\admin\\AppData\\Local\\Programs\\Python\\Python311\\;C:\\Users\\admin\\AppData\\Local\\Microsoft\\WindowsApps;C:\\Users\\admin\\AppData\\Local\\Programs\\Microsoft VS Code\\bin;C:\\Users\\admin\\AppData\\Roaming\\nvm;C:\\Program Files\\nodejs;C:\\Users\\admin\\AppData\\Local\\Programs\\EmEditor;D:\\TOOLS\\vs_BuildTools.exe;C:\\Program Files\\JetBrains\\PyCharm 2023.2.1\\bin;\n"
     ]
    }
   ],
   "source": [
    "current_path = os.getcwd()\n",
    "\n",
    "path_env_var = os.environ.get(\"PATH\")\n",
    "updated_path_env_var = f\"{current_path}\\\\poppler\\\\Library\\\\bin;{path_env_var}\"\n",
    "print(updated_path_env_var)\n",
    "os.environ['PATH'] = updated_path_env_var"
   ]
  },
  {
   "cell_type": "markdown",
   "metadata": {},
   "source": [
    "# Get pdf files in the current directory"
   ]
  },
  {
   "cell_type": "code",
   "execution_count": 3,
   "metadata": {},
   "outputs": [
    {
     "name": "stdout",
     "output_type": "stream",
     "text": [
      "['d:\\\\JJPES\\\\new\\\\scrap\\\\merged.pdf']\n"
     ]
    }
   ],
   "source": [
    "files = [current_path + \"\\\\\" + f for f in os.listdir('./') if f.endswith('.pdf')]\n",
    "print(files)"
   ]
  },
  {
   "cell_type": "markdown",
   "metadata": {},
   "source": [
    "# Set Deed, Mortgage, Judgment, Liens"
   ]
  },
  {
   "cell_type": "code",
   "execution_count": 4,
   "metadata": {},
   "outputs": [],
   "source": [
    "doc_index = 0\n",
    "\n",
    "deed_array = ['Warranty Deed', 'Quit Claim Deed', 'QuitClaim Deed', 'Disclaimer Deed', 'Special Warranty Deed', 'Grant Deed', 'Trustees Deed upon Sale', \"Trustee's Deed\", 'Limited Warranty Deed', 'Bargain and sale deed', 'Administrator deeds', 'Sheriff Deed', 'Deed Under Power Of Sale', 'General Warranty Deed', 'North Carolina General Warranty Deed', 'This Deed', 'Deed', 'Release Deed']\n",
    "deed_array = [deed.lower() for deed in deed_array]\n",
    "mortgage_array = ['Deed of Trust', 'Security Deed', 'Mortgage', 'Partial Claims Mortgage', 'Short form Deed of Trust']\n",
    "mortgage_array = [mortgage.lower() for mortgage in mortgage_array]\n",
    "judgment_array = ['Abstract Judgment', 'Divorce Decree', 'Criminal Restitution Judgment', 'Notice of Lis Pendens', 'FIFA', 'Final Judgment']\n",
    "judgment_array = [judgment.lower() for judgment in judgment_array]\n",
    "liens_array = ['Water Lien', 'Sewer Lien', 'Federal Tax Lien', 'State Tax Lien', 'UCC Financing Statement', 'Homeowners Association Lien', 'Mechanic Lien', 'Notice and Claim of Lien', 'Tax Lien', 'Code Violation Lien', 'Notice of Pending Lien', 'Claim Of Lien', 'Notice Regarding Payment Of Support', 'Notice Of Federal Tax Lien', 'Statement Of Lien']\n",
    "liens_array = [liens.lower() for liens in liens_array]\n",
    "assignments_array = ['Assignment of Security Deed', 'Corporate Assignment of Deed of Trust', 'Assignment of Security Instrument', 'Assignment of First Mortgage and Assignment of Rents', 'Assignment of Mortgage']\n",
    "assignments_array = [assignments.lower() for assignments in assignments_array]\n",
    "modification_array = ['Loan Modification Agreement', 'Mortgage Modification Agreement', 'Agreement of Modification of Mortgage', 'Modification Agreement', 'FHA Home Affordable Modification Agreement']\n",
    "modification_array = [modification.lower() for modification in modification_array]\n",
    "substitution_array = ['Substitution Of Trustee', 'Appointment Of Substitute Trustees', 'Deed Of Appointment Of Substitute Trustee']\n",
    "substitution_array = [substitution.lower() for substitution in substitution_array]"
   ]
  },
  {
   "cell_type": "markdown",
   "metadata": {},
   "source": [
    "# List out all the directories"
   ]
  },
  {
   "cell_type": "code",
   "execution_count": 5,
   "metadata": {},
   "outputs": [
    {
     "name": "stdout",
     "output_type": "stream",
     "text": [
      "['bot.ipynb', 'bot.py', 'Documents Parsing', 'merged.pdf', 'ocr.py', 'poppler', '__pycache__']\n"
     ]
    }
   ],
   "source": [
    "dirs = os.listdir('./')\n",
    "print(dirs)"
   ]
  },
  {
   "cell_type": "markdown",
   "metadata": {},
   "source": [
    "# Handle pdf files"
   ]
  },
  {
   "cell_type": "code",
   "execution_count": 8,
   "metadata": {},
   "outputs": [
    {
     "name": "stdout",
     "output_type": "stream",
     "text": [
      "-------------- merged ----------------\n",
      "--------------------------------------------------------\n",
      "--------------------------------------------------------\n",
      "--------------------------------------------------------\n",
      "--------------------------------------------------------\n",
      "--------------------------------------------------------\n",
      "--------------------------------------------------------\n",
      "--------------------------------------------------------\n",
      "--------------------------------------------------------\n",
      "--------------------------------------------------------\n",
      "--------------------------------------------------------\n",
      "--------------------------------------------------------\n",
      "--------------------------------------------------------\n",
      "--------------------------------------------------------\n",
      "--------------------------------------------------------\n",
      "--------------------------------------------------------\n",
      "['Uniform Residential Loan Application', 'Uniform Residential Loan Application', 'Uniform Residential Loan Application']\n",
      "[0, 5, 10]\n"
     ]
    },
    {
     "name": "stderr",
     "output_type": "stream",
     "text": [
      "[WARNING] tokens.py:221 Did not find PDF object (639, 0) (line=99897, col=1, token='endobj')\n",
      "[WARNING] tokens.py:221 Did not find PDF object (640, 0) (line=99897, col=1, token='endobj')\n",
      "[WARNING] tokens.py:221 Did not find PDF object (654, 0) (line=99897, col=1, token='endobj')\n",
      "[WARNING] tokens.py:221 Did not find PDF object (655, 0) (line=99897, col=1, token='endobj')\n",
      "[WARNING] tokens.py:221 Did not find PDF object (657, 0) (line=107128, col=1, token='endobj')\n",
      "[WARNING] tokens.py:221 Did not find PDF object (658, 0) (line=107128, col=1, token='endobj')\n",
      "[WARNING] tokens.py:221 Did not find PDF object (660, 0) (line=107267, col=1, token='endobj')\n",
      "[WARNING] tokens.py:221 Did not find PDF object (661, 0) (line=107267, col=1, token='endobj')\n",
      "[WARNING] tokens.py:221 Did not find PDF object (648, 0) (line=107267, col=1, token='endobj')\n",
      "[WARNING] tokens.py:221 Did not find PDF object (649, 0) (line=107267, col=1, token='endobj')\n",
      "[WARNING] tokens.py:221 Did not find PDF object (663, 0) (line=107267, col=1, token='endobj')\n",
      "[WARNING] tokens.py:221 Did not find PDF object (664, 0) (line=107267, col=1, token='endobj')\n",
      "[WARNING] tokens.py:221 Did not find PDF object (18, 0) (line=91256, col=1, token='endobj')\n",
      "[WARNING] tokens.py:221 Did not find PDF object (20, 0) (line=91256, col=1, token='endobj')\n",
      "[WARNING] tokens.py:221 Did not find PDF object (19, 0) (line=91256, col=1, token='endobj')\n",
      "[WARNING] tokens.py:221 Did not find PDF object (21, 0) (line=91256, col=1, token='endobj')\n",
      "[WARNING] tokens.py:221 Did not find PDF object (23, 0) (line=92560, col=1, token='endobj')\n",
      "[WARNING] tokens.py:221 Did not find PDF object (25, 0) (line=92560, col=1, token='endobj')\n",
      "[WARNING] tokens.py:221 Did not find PDF object (27, 0) (line=92560, col=1, token='endobj')\n",
      "[WARNING] tokens.py:221 Did not find PDF object (24, 0) (line=92560, col=1, token='endobj')\n",
      "[WARNING] tokens.py:221 Did not find PDF object (26, 0) (line=92560, col=1, token='endobj')\n",
      "[WARNING] tokens.py:221 Did not find PDF object (43, 0) (line=92673, col=1, token='endobj')\n",
      "[WARNING] tokens.py:221 Did not find PDF object (45, 0) (line=92673, col=1, token='endobj')\n",
      "[WARNING] tokens.py:221 Did not find PDF object (44, 0) (line=92673, col=1, token='endobj')\n",
      "[WARNING] tokens.py:221 Did not find PDF object (18, 0) (line=91256, col=1, token='endobj')\n",
      "[WARNING] tokens.py:221 Did not find PDF object (20, 0) (line=91256, col=1, token='endobj')\n",
      "[WARNING] tokens.py:221 Did not find PDF object (19, 0) (line=91256, col=1, token='endobj')\n",
      "[WARNING] tokens.py:221 Did not find PDF object (21, 0) (line=91256, col=1, token='endobj')\n",
      "[WARNING] tokens.py:221 Did not find PDF object (23, 0) (line=92560, col=1, token='endobj')\n",
      "[WARNING] tokens.py:221 Did not find PDF object (25, 0) (line=92560, col=1, token='endobj')\n",
      "[WARNING] tokens.py:221 Did not find PDF object (27, 0) (line=92560, col=1, token='endobj')\n",
      "[WARNING] tokens.py:221 Did not find PDF object (24, 0) (line=92560, col=1, token='endobj')\n",
      "[WARNING] tokens.py:221 Did not find PDF object (26, 0) (line=92560, col=1, token='endobj')\n",
      "[WARNING] tokens.py:221 Did not find PDF object (43, 0) (line=92673, col=1, token='endobj')\n",
      "[WARNING] tokens.py:221 Did not find PDF object (45, 0) (line=92673, col=1, token='endobj')\n",
      "[WARNING] tokens.py:221 Did not find PDF object (44, 0) (line=92673, col=1, token='endobj')\n",
      "[WARNING] tokens.py:221 Did not find PDF object (5189, 0) (line=99910, col=1, token='endobj')\n",
      "[WARNING] tokens.py:221 Did not find PDF object (5190, 0) (line=99910, col=1, token='endobj')\n",
      "[WARNING] tokens.py:221 Did not find PDF object (5199, 0) (line=99910, col=1, token='endobj')\n",
      "[WARNING] tokens.py:221 Did not find PDF object (5200, 0) (line=99910, col=1, token='endobj')\n",
      "[WARNING] tokens.py:221 Did not find PDF object (5201, 0) (line=107162, col=1, token='endobj')\n",
      "[WARNING] tokens.py:221 Did not find PDF object (5202, 0) (line=107162, col=1, token='endobj')\n",
      "[WARNING] tokens.py:221 Did not find PDF object (5203, 0) (line=107301, col=1, token='endobj')\n",
      "[WARNING] tokens.py:221 Did not find PDF object (5204, 0) (line=107301, col=1, token='endobj')\n",
      "[WARNING] tokens.py:221 Did not find PDF object (5195, 0) (line=107301, col=1, token='endobj')\n",
      "[WARNING] tokens.py:221 Did not find PDF object (5196, 0) (line=107301, col=1, token='endobj')\n",
      "[WARNING] tokens.py:221 Did not find PDF object (5205, 0) (line=107301, col=1, token='endobj')\n",
      "[WARNING] tokens.py:221 Did not find PDF object (5206, 0) (line=107301, col=1, token='endobj')\n",
      "[WARNING] tokens.py:221 Did not find PDF object (639, 0) (line=99897, col=1, token='endobj')\n",
      "[WARNING] tokens.py:221 Did not find PDF object (640, 0) (line=99897, col=1, token='endobj')\n",
      "[WARNING] tokens.py:221 Did not find PDF object (654, 0) (line=99897, col=1, token='endobj')\n",
      "[WARNING] tokens.py:221 Did not find PDF object (655, 0) (line=99897, col=1, token='endobj')\n",
      "[WARNING] tokens.py:221 Did not find PDF object (657, 0) (line=107128, col=1, token='endobj')\n",
      "[WARNING] tokens.py:221 Did not find PDF object (658, 0) (line=107128, col=1, token='endobj')\n",
      "[WARNING] tokens.py:221 Did not find PDF object (660, 0) (line=107267, col=1, token='endobj')\n",
      "[WARNING] tokens.py:221 Did not find PDF object (661, 0) (line=107267, col=1, token='endobj')\n",
      "[WARNING] tokens.py:221 Did not find PDF object (648, 0) (line=107267, col=1, token='endobj')\n",
      "[WARNING] tokens.py:221 Did not find PDF object (649, 0) (line=107267, col=1, token='endobj')\n",
      "[WARNING] tokens.py:221 Did not find PDF object (663, 0) (line=107267, col=1, token='endobj')\n",
      "[WARNING] tokens.py:221 Did not find PDF object (664, 0) (line=107267, col=1, token='endobj')\n",
      "[WARNING] tokens.py:221 Did not find PDF object (4601, 0) (line=110164, col=1, token='endobj')\n",
      "[WARNING] tokens.py:221 Did not find PDF object (4602, 0) (line=110164, col=1, token='endobj')\n",
      "[WARNING] tokens.py:221 Did not find PDF object (4603, 0) (line=110164, col=1, token='endobj')\n",
      "[WARNING] tokens.py:221 Did not find PDF object (4604, 0) (line=110164, col=1, token='endobj')\n",
      "[WARNING] tokens.py:221 Did not find PDF object (4605, 0) (line=110208, col=1, token='endobj')\n",
      "[WARNING] tokens.py:221 Did not find PDF object (4606, 0) (line=110208, col=1, token='endobj')\n",
      "[WARNING] tokens.py:221 Did not find PDF object (4607, 0) (line=110208, col=1, token='endobj')\n",
      "[WARNING] tokens.py:221 Did not find PDF object (4608, 0) (line=110208, col=1, token='endobj')\n",
      "[WARNING] tokens.py:221 Did not find PDF object (4609, 0) (line=110208, col=1, token='endobj')\n",
      "[WARNING] tokens.py:221 Did not find PDF object (4620, 0) (line=110208, col=1, token='endobj')\n",
      "[WARNING] tokens.py:221 Did not find PDF object (4621, 0) (line=110208, col=1, token='endobj')\n",
      "[WARNING] tokens.py:221 Did not find PDF object (4622, 0) (line=110208, col=1, token='endobj')\n"
     ]
    }
   ],
   "source": [
    "for file in files:\n",
    "    filename = file.split('\\\\')[-1].split('.')[0]\n",
    "    print(f'-------------- {filename} ----------------')\n",
    "    reader = PdfReader(file)\n",
    "    \n",
    "    images = convert_from_path(file)\n",
    "    # print(images)\n",
    "    final_str = \"\"\n",
    "    parcel_flag = 0\n",
    "    count_judg = 1\n",
    "    count_assign = 1\n",
    "    count_financial = 1\n",
    "    deeds_str = \"\"\n",
    "    additional_str = \"\"\n",
    "    num_legal = 0\n",
    "    prev_page_deed = 0\n",
    "    deed_txt = \"\"\n",
    "    financial_txt = \"\"\n",
    "    prev_page_financial = 0\n",
    "    \n",
    "    doc_names = []\n",
    "    pages = []\n",
    "    for i, image in enumerate(images):\n",
    "        img_bytes = io.BytesIO()\n",
    "        image.save(img_bytes, format='PNG')\n",
    "        \n",
    "        content = img_bytes.getvalue()\n",
    "        \n",
    "        # Run the OCR on the image\n",
    "        result = ocr.textract_analysis(content)\n",
    "        # print(result)\n",
    "        \n",
    "        str_str = \"\"\n",
    "        flag = 0\n",
    "        reason = \"\"\n",
    "        deed_flag = 0\n",
    "        assign_flag = 0\n",
    "        legal_flag = 0\n",
    "        \n",
    "        for sstr in result:\n",
    "            str_str += sstr\n",
    "            str_str += \" \"\n",
    "        lower_str = str_str.lower()\n",
    "        \n",
    "        core_content = \"\"\n",
    "        if len(lower_str) > 200:\n",
    "            core_content = lower_str[:200]\n",
    "        else:\n",
    "            core_content = lower_str\n",
    "        print('--------------------------------------------------------')\n",
    "        if \"Uniform Residential Loan Application\".lower() in core_content:\n",
    "            doc_names.append(\"Uniform Residential Loan Application\")\n",
    "            pages.append(i)\n",
    "        if \"Uniform Residential Appraisal Report\".lower() in core_content:\n",
    "            doc_names.append(\"Uniform Residential Appraisal Report\")\n",
    "            pages.append(i)\n",
    "        if \"Individual Income Tax Return\".lower() in core_content:\n",
    "            doc_names.append(\"Individual Income Tax Return\")\n",
    "            pages.append(i)\n",
    "        if \"Bank of America\".lower() in core_content:\n",
    "            doc_names.append(\"Bank of America\")\n",
    "            pages.append(i)\n",
    "        if \"Closing Disclosure\".lower() in core_content:\n",
    "            doc_names.append(\"Closing Disclosure\")\n",
    "            pages.append(i)\n",
    "        if \"Credit Report\".lower() in core_content:\n",
    "            doc_names.append(\"Credit Report\")\n",
    "            pages.append(i)\n",
    "        if \"Settlement Statement\".lower() in core_content:\n",
    "            doc_names.append(\"Settlement Statement\")\n",
    "            pages.append(i)\n",
    "        if \"PAY STUB\".lower() in core_content:\n",
    "            doc_names.append(\"PAY STUB\")\n",
    "            pages.append(i)\n",
    "        if \"Approval Letter\".lower() in core_content:\n",
    "            doc_names.append(\"Approval Letter\")\n",
    "            pages.append(i)\n",
    "        if \"22222\".lower() in core_content:\n",
    "            doc_names.append(\"22222\")\n",
    "            pages.append(i)\n",
    "\n",
    "    print(doc_names)\n",
    "    print(pages)\n",
    "    for i in range(len(pages)):\n",
    "        reader = PdfReader(file)\n",
    "        pdf_writer = PdfWriter()\n",
    "        \n",
    "        # If it's the last index item, include all remaining pages\n",
    "        if i == len(pages) - 1:\n",
    "            for j in range(pages[i], len(reader.pages)):\n",
    "                pages = reader.pages[j]\n",
    "                pdf_writer.addpage(new_func())\n",
    "        else:\n",
    "            for j in range(pages[i], pages[i + 1]):\n",
    "                page = reader.pages[j]\n",
    "                pdf_writer.addpage(page)\n",
    "                \n",
    "        # Write the split PDF file\n",
    "        with open(doc_names[i] + '_' + str(i+1) + '.pdf', 'wb') as output_pdf:\n",
    "            pdf_writer.write(output_pdf)\n",
    "            \n",
    "    \n",
    "    "
   ]
  }
 ],
 "metadata": {
  "kernelspec": {
   "display_name": "Python 3",
   "language": "python",
   "name": "python3"
  },
  "language_info": {
   "codemirror_mode": {
    "name": "ipython",
    "version": 3
   },
   "file_extension": ".py",
   "mimetype": "text/x-python",
   "name": "python",
   "nbconvert_exporter": "python",
   "pygments_lexer": "ipython3",
   "version": "3.11.4"
  },
  "orig_nbformat": 4
 },
 "nbformat": 4,
 "nbformat_minor": 2
}
